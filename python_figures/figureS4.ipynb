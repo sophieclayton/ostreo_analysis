{
 "cells": [
  {
   "cell_type": "code",
   "execution_count": 1,
   "metadata": {
    "collapsed": true
   },
   "outputs": [],
   "source": [
    "% matplotlib inline\n",
    "\n",
    "import h5py as hp\n",
    "import numpy as np\n",
    "import pandas as pd\n",
    "from math import *\n",
    "import matplotlib.pyplot as plt\n",
    "import scipy.io as sio\n",
    "import gsw as sw\n"
   ]
  },
  {
   "cell_type": "code",
   "execution_count": 2,
   "metadata": {
    "collapsed": true
   },
   "outputs": [],
   "source": [
    "# import location data for cruise track and stations\n",
    "cfname = '/Volumes/sclayton/kuroshio/genomics/ostreo.mat'\n",
    "f = hp.File(cfname)\n",
    "\n",
    "lon = np.array(f['lon'])\n",
    "lat = np.array(f['lat'])\n",
    "S = np.array(f['S'])\n",
    "T = np.array(f['T'])\n",
    "ostreo = np.array(f['ostreo'])\n",
    "z = np.array(f['z'])\n",
    "\n",
    "kuro = np.where(np.logical_or(np.logical_and(lon > 140,T>18.1),T<16))"
   ]
  },
  {
   "cell_type": "code",
   "execution_count": 3,
   "metadata": {
    "collapsed": false
   },
   "outputs": [],
   "source": [
    "# calculate distance and delta S\n",
    "lon = lon[kuro]\n",
    "lat = lat[kuro]\n",
    "\n",
    "dS = np.abs(np.diff(S[kuro],n=1))\n",
    "dL = sw.distance(lat, lon)"
   ]
  },
  {
   "cell_type": "code",
   "execution_count": 4,
   "metadata": {
    "collapsed": false
   },
   "outputs": [
    {
     "name": "stderr",
     "output_type": "stream",
     "text": [
      "/Users/sclayton/anaconda/lib/python2.7/site-packages/matplotlib/figure.py:1653: UserWarning: This figure includes Axes that are not compatible with tight_layout, so its results might be incorrect.\n",
      "  warnings.warn(\"This figure includes Axes that are not \"\n"
     ]
    },
    {
     "data": {
      "image/png": "[encoded data removed]",
      "text/plain": [
       "<matplotlib.figure.Figure at 0x10ad3ff90>"
      ]
     },
     "metadata": {},
     "output_type": "display_data"
    }
   ],
   "source": [
    "# make a plot of the data\n",
    "from matplotlib import rcParams\n",
    "rcParams.update({'figure.autolayout': True})\n",
    "rcParams.update({'font.family': 'serif'})\n",
    "rcParams.update({'font.serif': 'Times New Roman'})\n",
    "\n",
    "figs4 = plt.figure(4, figsize=(3.5, 2.5), dpi = 1200)\n",
    "plt.plot(dL[0,], dS, '.k')\n",
    "plt.xlim([6000, 10000])\n",
    "plt.xlabel(r'$\\Delta$L (m)', fontsize = 12)\n",
    "plt.ylabel(r'$\\Delta$S (psu)', fontsize = 12)\n",
    "\n",
    "figs4.savefig('/Users/sclayton/Desktop/LO_figS4.tiff', format='tiff', dpi=1200)"
   ]
  },
  {
   "cell_type": "code",
   "execution_count": 5,
   "metadata": {
    "collapsed": false
   },
   "outputs": [
    {
     "name": "stdout",
     "output_type": "stream",
     "text": [
      "[  5.13092783e-07   7.39784775e-07   2.07602975e-07   7.12926225e-10\n",
      "   5.70577927e-07   8.12757481e-06   1.91608308e-06   4.50299416e-07\n",
      "   4.42966814e-05   3.74275236e-05   2.79807325e-05   6.33242148e-07\n",
      "   6.17755015e-10   2.87318482e-08   1.84244056e-06   1.23526093e-04\n",
      "   9.15482338e-06   4.28387759e-06   2.57091113e-07   1.26621499e-06\n",
      "   2.19947333e-07   4.06999699e-08   1.92363326e-08   1.12468933e-07\n",
      "   1.32630143e-07]\n"
     ]
    },
    {
     "data": {
      "text/plain": [
       "(array([ 2.,  0.,  1.,  2.,  5.,  5.,  3.,  3.,  1.,  3.]),\n",
       " array([-9.20918372, -8.67908948, -8.14899523, -7.61890099, -7.08880675,\n",
       "        -6.55871251, -6.02861826, -5.49852402, -4.96842978, -4.43833554,\n",
       "        -3.90824129]),\n",
       " <a list of 10 Patch objects>)"
      ]
     },
     "execution_count": 5,
     "metadata": {},
     "output_type": "execute_result"
    },
    {
     "data": {
      "image/png": "[encoded data removed]",
      "text/plain": [
       "<matplotlib.figure.Figure at 0x10ad3fb50>"
      ]
     },
     "metadata": {},
     "output_type": "display_data"
    }
   ],
   "source": [
    "print 10**4*(dS[4:]**2/dL[0,4:]**2)\n",
    "\n",
    "plt.hist(np.log10(10**4*(dS[4:]**2/dL[0,4:]**2)))"
   ]
  },
  {
   "cell_type": "code",
   "execution_count": null,
   "metadata": {
    "collapsed": true
   },
   "outputs": [],
   "source": []
  }
 ],
 "metadata": {
  "kernelspec": {
   "display_name": "Python 2",
   "language": "python",
   "name": "python2"
  },
  "language_info": {
   "codemirror_mode": {
    "name": "ipython",
    "version": 2
   },
   "file_extension": ".py",
   "mimetype": "text/x-python",
   "name": "python",
   "nbconvert_exporter": "python",
   "pygments_lexer": "ipython2",
   "version": "2.7.10"
  }
 },
 "nbformat": 4,
 "nbformat_minor": 0
}
