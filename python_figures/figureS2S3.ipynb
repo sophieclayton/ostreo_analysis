{
 "cells": [
  {
   "cell_type": "code",
   "execution_count": 1,
   "metadata": {
    "collapsed": true
   },
   "outputs": [],
   "source": [
    "% matplotlib inline\n",
    "\n",
    "import h5py as hp\n",
    "import numpy as np\n",
    "import pandas as pd\n",
    "from math import *\n",
    "import matplotlib.pyplot as plt\n",
    "import scipy.io as sio\n",
    "import seawater as sw"
   ]
  },
  {
   "cell_type": "code",
   "execution_count": 2,
   "metadata": {
    "collapsed": false
   },
   "outputs": [],
   "source": [
    "# import the ostreo data \n",
    "cfname = '/Volumes/sclayton/kuroshio/genomics/ostreo.mat'\n",
    "f = hp.File(cfname)\n",
    "\n",
    "lon = np.array(f['lon'])\n",
    "T = np.array(f['T'])\n",
    "ostreo = np.array(f['ostreo'])\n",
    "z = np.array(f['z'])\n",
    "\n",
    "kuro = np.where(np.logical_and((np.logical_or(np.logical_and(lon > 140,T>18.1),T<16)), z==0))\n",
    "kuro= kuro[1]"
   ]
  },
  {
   "cell_type": "code",
   "execution_count": 4,
   "metadata": {
    "collapsed": false
   },
   "outputs": [],
   "source": [
    "# import the transect data\n",
    "TA = np.loadtxt('/Volumes/sclayton/kuroshio/from_ODV/temp_A.dat',delimiter=',')\n",
    "TB = np.loadtxt('/Volumes/sclayton/kuroshio/from_ODV/temp_B.dat',delimiter=',')\n",
    "TD = np.loadtxt('/Volumes/sclayton/kuroshio/from_ODV/temp_D.dat',delimiter=',')\n",
    "TE = np.loadtxt('/Volumes/sclayton/kuroshio/from_ODV/temp_E.dat',delimiter=',')\n",
    "\n",
    "NA = np.loadtxt('/Volumes/sclayton/kuroshio/from_ODV/no3_A.dat',delimiter=',')\n",
    "NB = np.loadtxt('/Volumes/sclayton/kuroshio/from_ODV/no3_B.dat',delimiter=',')\n",
    "ND = np.loadtxt('/Volumes/sclayton/kuroshio/from_ODV/no3_D.dat',delimiter=',')\n",
    "NE = np.loadtxt('/Volumes/sclayton/kuroshio/from_ODV/no3_E.dat',delimiter=',')\n",
    "\n",
    "DA = np.loadtxt('/Volumes/sclayton/kuroshio/from_ODV/sigt_A.dat',delimiter=',')\n",
    "DB = np.loadtxt('/Volumes/sclayton/kuroshio/from_ODV/sigt_B.dat',delimiter=',')\n",
    "DD = np.loadtxt('/Volumes/sclayton/kuroshio/from_ODV/sigt_D.dat',delimiter=',')\n",
    "DE = np.loadtxt('/Volumes/sclayton/kuroshio/from_ODV/sigt_E.dat',delimiter=',')\n",
    "\n",
    "SA = np.loadtxt('/Volumes/sclayton/kuroshio/from_ODV/sal_A.dat',delimiter=',')\n",
    "SB = np.loadtxt('/Volumes/sclayton/kuroshio/from_ODV/sal_B.dat',delimiter=',')\n",
    "SD = np.loadtxt('/Volumes/sclayton/kuroshio/from_ODV/salt_D.dat',delimiter=',')\n",
    "SE = np.loadtxt('/Volumes/sclayton/kuroshio/from_ODV/salt_E.dat',delimiter=',')"
   ]
  },
  {
   "cell_type": "code",
   "execution_count": null,
   "metadata": {
    "collapsed": true
   },
   "outputs": [],
   "source": []
  }
 ],
 "metadata": {
  "kernelspec": {
   "display_name": "Python 2",
   "language": "python",
   "name": "python2"
  },
  "language_info": {
   "codemirror_mode": {
    "name": "ipython",
    "version": 2
   },
   "file_extension": ".py",
   "mimetype": "text/x-python",
   "name": "python",
   "nbconvert_exporter": "python",
   "pygments_lexer": "ipython2",
   "version": "2.7.10"
  }
 },
 "nbformat": 4,
 "nbformat_minor": 0
}
