{
 "cells": [
  {
   "cell_type": "code",
   "execution_count": 2,
   "metadata": {
    "collapsed": true
   },
   "outputs": [],
   "source": [
    "% matplotlib inline\n",
    "\n",
    "import h5py as hp\n",
    "import numpy as np\n",
    "import pandas as pd\n",
    "from math import *\n",
    "import matplotlib.pyplot as plt\n",
    "import scipy.io as sio"
   ]
  },
  {
   "cell_type": "code",
   "execution_count": 3,
   "metadata": {
    "collapsed": true
   },
   "outputs": [],
   "source": [
    "# import location data for cruise track and stations\n",
    "cfname = '/Volumes/sclayton/kuroshio/genomics/ostreo.mat'\n",
    "f = hp.File(cfname)\n",
    "\n",
    "lon = np.array(f['lon'])\n",
    "S = np.array(f['S'])\n",
    "T = np.array(f['T'])\n",
    "ostreo = np.array(f['ostreo'])\n",
    "z = np.array(f['z'])\n",
    "\n",
    "kuro = np.where(np.logical_or(np.logical_and(lon > 140,T>18.1),T<16))"
   ]
  },
  {
   "cell_type": "code",
   "execution_count": 4,
   "metadata": {
    "collapsed": false
   },
   "outputs": [
    {
     "name": "stdout",
     "output_type": "stream",
     "text": [
      "5e-08\n"
     ]
    }
   ],
   "source": [
    "# model parameters\n",
    "dy = 0.05\n",
    "y = np.arange(33.2, 34.3, dy) # S\n",
    "k = 5e-08 # diffusity coeff in salinity space, S2/s\n",
    "\n",
    "# time stepping\n",
    "dt = 30 # time step in seconds\n",
    "tend = 10\n",
    "tstep = np.arange(1, 60*60*24*tend, dt)\n",
    "\n",
    "print k"
   ]
  },
  {
   "cell_type": "code",
   "execution_count": null,
   "metadata": {
    "collapsed": true
   },
   "outputs": [],
   "source": [
    "# model\n",
    "# EXPERIMENT 1, unet = 0\n",
    "u1 = np.zeros(len(y))\n",
    "u2 = u1\n",
    "\n",
    "m1 = 0\n",
    "m2 = m1\n",
    "\n",
    "for t = 2:length(tstep);\n",
    "    for ystep = 2:length(y)-1;\n",
    "        OI_null(ystep,t) = OI_null(ystep,t-1) + (k/(dy^2)*dt*(OI_null(ystep+1,t-1)-2*OI_null(ystep,t-1)+OI_null(ystep-1,t-1))+u1(ystep)*dt*OI_null(ystep,t-1))-m1*dt*OI_null(ystep,t-1);\n",
    "        if OI_null(ystep,t)<0, OI_null(ystep,t)=0; end\n",
    "        OII_null(ystep,t) = OII_null(ystep,t-1) + (k/(dy^2)*dt*(OII_null(ystep+1,t-1)-2*OII_null(ystep,t-1)+OII_null(ystep-1,t-1))+u2(ystep)*dt*OII_null(ystep,t-1))-m2*dt*OII_null(ystep,t-1);\n",
    "        if OII_null(ystep,t)<0, OII_null(ystep,t)=0; end\n",
    "    end\n",
    "end\n",
    "clear u1 u2 m1 m2\n",
    "\n",
    "% EXPERIMENT 2, unet > 0\n",
    "u1 = 0.7/(60*60*24).*ones(length(y));\n",
    "u2 = u1;\n",
    "\n",
    "m1 =0.1/(60*60*24);\n",
    "m2 = m1;\n",
    "\n",
    "for t = 2:length(tstep);\n",
    "    for ystep = 2:length(y)-1;\n",
    "        OI_pos(ystep,t) = OI_pos(ystep,t-1) + (k/(dy^2)*dt*(OI_pos(ystep+1,t-1)-2*OI_pos(ystep,t-1)+OI_pos(ystep-1,t-1))+u1(ystep)*dt*OI_pos(ystep,t-1))-m1*dt*OI_pos(ystep,t-1);\n",
    "        if OI_pos(ystep,t)<0, OI_pos(ystep,t)=0; end\n",
    "        OII_pos(ystep,t) = OII_pos(ystep,t-1) + (k/(dy^2)*dt*(OII_pos(ystep+1,t-1)-2*OII_pos(ystep,t-1)+OII_pos(ystep-1,t-1))+u2(ystep)*dt*OII_pos(ystep,t-1))-m2*dt*OII_pos(ystep,t-1);\n",
    "        if OII_pos(ystep,t)<0, OII_pos(ystep,t)=0; end\n",
    "    end\n",
    "end\n",
    "clear u1 u2 m1 m2\n",
    "\n",
    "% EXPERIMENT 3, unet < 0\n",
    "u1 = zeros(length(y));\n",
    "u2 = u1;\n",
    "\n",
    "m1 = 0.1/(60*60*24);\n",
    "m2 = m1;\n",
    "\n",
    "for t = 2:length(tstep);\n",
    "    for ystep = 2:length(y)-1;\n",
    "        OI_neg(ystep,t) = OI_neg(ystep,t-1) + (k/(dy^2)*dt*(OI_neg(ystep+1,t-1)-2*OI_neg(ystep,t-1)+OI_neg(ystep-1,t-1))+u1(ystep)*dt*OI_neg(ystep,t-1))-m1*dt*OI_neg(ystep,t-1);\n",
    "        if OI_neg(ystep,t)<0, OI_neg(ystep,t)=0; end\n",
    "        OII_neg(ystep,t) = OII_neg(ystep,t-1) + (k/(dy^2)*dt*(OII_neg(ystep+1,t-1)-2*OII_neg(ystep,t-1)+OII_neg(ystep-1,t-1))+u2(ystep)*dt*OII_neg(ystep,t-1))-m2*dt*OII_neg(ystep,t-1);\n",
    "        if OII_neg(ystep,t)<0, OII_neg(ystep,t)=0; end\n",
    "    end\n",
    "end\n",
    "\n",
    "#output.null = [OI_null(:,t) OII_null(:,t)];\n",
    "#output.pos = [OI_pos(:,t) OII_pos(:,t)];\n",
    "#output.neg = [OI_neg(:,t) OII_neg(:,t)];"
   ]
  },
  {
   "cell_type": "code",
   "execution_count": null,
   "metadata": {
    "collapsed": true
   },
   "outputs": [],
   "source": [
    "# make a plot of the output\n",
    "from matplotlib import rcParams\n",
    "rcParams.update({'figure.autolayout': True})\n",
    "rcParams.update({'font.family': 'serif'})\n",
    "rcParams.update({'font.serif': 'Times New Roman'})\n",
    "\n",
    "fig5 = plt.figure(1, figsize=(3.5, 3.5), dpi = 1200)"
   ]
  }
 ],
 "metadata": {
  "kernelspec": {
   "display_name": "Python 2",
   "language": "python",
   "name": "python2"
  },
  "language_info": {
   "codemirror_mode": {
    "name": "ipython",
    "version": 2
   },
   "file_extension": ".py",
   "mimetype": "text/x-python",
   "name": "python",
   "nbconvert_exporter": "python",
   "pygments_lexer": "ipython2",
   "version": "2.7.10"
  }
 },
 "nbformat": 4,
 "nbformat_minor": 0
}
