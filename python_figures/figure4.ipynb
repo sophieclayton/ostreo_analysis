{
 "cells": [
  {
   "cell_type": "code",
   "execution_count": 1,
   "metadata": {
    "collapsed": false
   },
   "outputs": [
    {
     "name": "stderr",
     "output_type": "stream",
     "text": [
      "/Users/sclayton/anaconda/lib/python2.7/site-packages/matplotlib/font_manager.py:273: UserWarning: Matplotlib is building the font cache using fc-list. This may take a moment.\n",
      "  warnings.warn('Matplotlib is building the font cache using fc-list. This may take a moment.')\n"
     ]
    }
   ],
   "source": [
    "% matplotlib inline\n",
    "\n",
    "import h5py as hp\n",
    "import numpy as np\n",
    "import pandas as pd\n",
    "from math import *\n",
    "import matplotlib.pyplot as plt\n",
    "import scipy.io as sio\n",
    "import seawater as sw\n",
    "from mpl_toolkits.basemap import Basemap, cm"
   ]
  },
  {
   "cell_type": "code",
   "execution_count": 2,
   "metadata": {
    "collapsed": false
   },
   "outputs": [],
   "source": [
    "# import location data for cruise track and stations\n",
    "cfname = '/Volumes/sclayton/kuroshio/genomics/ostreo.mat'\n",
    "f = hp.File(cfname)\n",
    "\n",
    "lon = np.array(f['lon'])\n",
    "S = np.array(f['S'])\n",
    "T = np.array(f['T'])\n",
    "ostreo = np.array(f['ostreo'])\n",
    "z = np.array(f['z'])\n",
    "\n",
    "kuro = np.where(np.logical_or(np.logical_and(lon > 140,T>18.1),T<16))\n"
   ]
  },
  {
   "cell_type": "code",
   "execution_count": 3,
   "metadata": {
    "collapsed": false
   },
   "outputs": [
    {
     "name": "stdout",
     "output_type": "stream",
     "text": [
      "(150, 30)\n",
      "(150, 30)\n"
     ]
    }
   ],
   "source": [
    "# calculate density\n",
    "SS = np.arange(33,36,0.1)\n",
    "SS = np.tile(SS,(150,1))\n",
    "print SS.shape\n",
    "TT = np.arange(13, 28, 0.1)\n",
    "TT = np.tile(TT, (30,1)).transpose()\n",
    "print TT.shape\n",
    "den = sw.dens0(SS, TT)-1000\n"
   ]
  },
  {
   "cell_type": "code",
   "execution_count": 10,
   "metadata": {
    "collapsed": false
   },
   "outputs": [
    {
     "data": {
      "image/png": "[encoded data removed]",
      "text/plain": [
       "<matplotlib.figure.Figure at 0x1168abe90>"
      ]
     },
     "metadata": {},
     "output_type": "display_data"
    }
   ],
   "source": [
    "# make a plot of the data\n",
    "from matplotlib import rcParams\n",
    "rcParams.update({'figure.autolayout': True})\n",
    "rcParams.update({'font.family': 'serif'})\n",
    "rcParams.update({'font.serif': 'Times New Roman'})\n",
    "\n",
    "fig4 = plt.figure(4, figsize=(3.5, 3), dpi = 600)\n",
    "palette = plt.get_cmap('RdYlBu_r',20)\n",
    "\n",
    "plt.xlim([33, 35])\n",
    "plt.ylim([13, 28])\n",
    "plt.xlabel('Salinity (psu)', fontsize=10)\n",
    "plt.ylabel(r'Temperature ($^{\\circ}$C)', fontsize=10)\n",
    "cs = plt.contour(SS, TT, den, [21.6, 22.4, 23.2, 24.0, 24.8, 25.6], colors='k')\n",
    "\n",
    "plt.clabel(cs, inline=1, fontsize=10, fmt='%3.1f') \n",
    "\n",
    "plt.tick_params(axis='both', which='major', labelsize=10)\n",
    "im = plt.scatter(S[kuro], T[kuro],s=75,c=ostreo[kuro]/100,vmin = 0, vmax = 1, cmap=palette, alpha = 1.)\n",
    "\n",
    "cb = plt.colorbar(im)\n",
    "cb.set_label(label=r'Relative abundance of OII',fontsize=10, labelpad = 10) \n",
    "\n",
    "plt.show()\n",
    "\n",
    "fig4.savefig('/Users/sclayton/Desktop/LO_fig4_smtxt.tiff', format='tiff', dpi=600)"
   ]
  },
  {
   "cell_type": "code",
   "execution_count": 7,
   "metadata": {
    "collapsed": false
   },
   "outputs": [
    {
     "name": "stdout",
     "output_type": "stream",
     "text": [
      "[[ 24.84381958  24.92123973  24.99866345 ...,  26.93544249  27.01296211\n",
      "   27.09048553]\n",
      " [ 24.82405847  24.90145903  24.97886316 ...,  26.91515511  26.99265534\n",
      "   27.07015938]\n",
      " [ 24.80420046  24.8815815   24.95896613 ...,  26.89477272  26.97225364\n",
      "   27.04973837]\n",
      " ..., \n",
      " [ 20.98846984  21.06362384  21.13878207 ...,  23.0191387   23.0944099\n",
      "   23.16968554]\n",
      " [ 20.95621042  21.03135239  21.10649861 ...,  22.98655515  23.06181435\n",
      "   23.13707801]\n",
      " [ 20.92387562  20.99900562  21.07413985 ...,  22.95389719  23.02914445\n",
      "   23.10439616]]\n"
     ]
    }
   ],
   "source": [
    "print den"
   ]
  },
  {
   "cell_type": "code",
   "execution_count": null,
   "metadata": {
    "collapsed": true
   },
   "outputs": [],
   "source": []
  }
 ],
 "metadata": {
  "kernelspec": {
   "display_name": "Python 2",
   "language": "python",
   "name": "python2"
  },
  "language_info": {
   "codemirror_mode": {
    "name": "ipython",
    "version": 2
   },
   "file_extension": ".py",
   "mimetype": "text/x-python",
   "name": "python",
   "nbconvert_exporter": "python",
   "pygments_lexer": "ipython2",
   "version": "2.7.11"
  }
 },
 "nbformat": 4,
 "nbformat_minor": 0
}
